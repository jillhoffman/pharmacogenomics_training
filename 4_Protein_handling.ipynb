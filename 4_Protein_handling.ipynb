{
 "cells": [
  {
   "cell_type": "markdown",
   "metadata": {},
   "source": [
    "ver. 02022020\n",
    "# Module 4 - Strings and things\n",
    "\n",
    "We have reached a stage where you have started doing things with python that would take too long to do by hand or by using excel. Today we will learn the final few functions to enable you to write code that can process large datasets. At the end of this module, you will be able to read a data file and plot the results, all within jupyter.\n",
    "\n",
    "Today's topics:\n",
    " - Strings\n",
    " - File Handling\n",
    " - Importing packages\n",
    " - Basic plotting\n",
    " \n"
   ]
  },
  {
   "cell_type": "markdown",
   "metadata": {},
   "source": [
    "### Strings\n",
    "\n",
    "In typical code where you read information from a file, you are going to read each line of a file as a string. So knowing python's powerful options for string manipulation will help you write code that reads files like human eyes.\n",
    "\n",
    "Refreshing our memories, string is just a set of characters enclosed by quotation marks. We can manipulate strings in many ways with python that is powerful and very useful in a variety of contexts. \n",
    "\n",
    "Refresher: Each character in a string has an index. Consider the string \"A Test String\":<br>\n",
    "\n",
    "Character&emsp;Index<br>\n",
    "\"A\"&emsp;&emsp;0<br>\n",
    "\" \"&emsp;&emsp;1<br>\n",
    "\"T\"&emsp;&emsp;2<br>\n",
    "\"E\"&emsp;&emsp;3<br>\n",
    "\"S\"&emsp;&emsp;4<br>\n",
    "\"T\"&emsp;&emsp;5<br>\n",
    "\" \"&emsp;&emsp;6<br>\n",
    "\"S\"&emsp;&emsp;7<br>\n",
    "\"t\"&emsp;&emsp;8<br>\n",
    "\"r\"&emsp;&emsp;&ensp;9<br>\n",
    "\"i\"&emsp;&emsp;10<br>\n",
    "\"n\"&emsp;&emsp;11<br>\n",
    "\"g\"&emsp;&emsp;12<br>\n",
    "\n",
    "### Let us do some string manipulation!\n",
    "\n",
    "Let's some biological problems to illustrate string manipulation in python:\n",
    "\n",
    " - How do I calculate the percentage of positively charged residues in a protein sequence?\n",
    " - How do I get the reverse complement of a DNA sequence?\n",
    " - How do I calculate the GC% in my **raw** sequencing reads?\n",
    " \n",
    "#### In the course of these examples, we will learn how to: <br>\n",
    " - Count the occurance of a substring\n",
    " - Length of a string\n",
    " - Split a string\n",
    " - Replace characters in a string\n",
    " - Find characters in a string\n",
    " - Remove specific characters from a stirng\n",
    " - Ask if the string has alphabets or numbers\n",
    " - Open a file and read it inside jupyter\n",
    " - Use loops and datastructures to process files\n"
   ]
  },
  {
   "cell_type": "markdown",
   "metadata": {},
   "source": [
    "### How do I calculate the percentage of positively charged residues in a protein sequence?\n",
    "\n",
    "Let us take my favorite protein sequence and write code to find percentage of positively charged residues. Protein/DNA sequence files usually are in Fasta format:<br>\n",
    "\"A sequence in FASTA format begins with a single-line description, followed by lines of sequence data. The description line (defline) is distinguished from the sequence data by a greater-than (\">\") symbol at the beginning.\" ([From NCBI](https://blast.ncbi.nlm.nih.gov/Blast.cgi?CMD=Web&PAGE_TYPE=BlastDocs&DOC_TYPE=BlastHelp))<br><br>\n",
    "In reality, you would write code to process a fasta file. We will learn later today how to open and read a file, but for now, we will just initialize a string as a shortcut:"
   ]
  },
  {
   "cell_type": "code",
   "execution_count": 1,
   "metadata": {},
   "outputs": [
    {
     "name": "stdout",
     "output_type": "stream",
     "text": [
      ">histone_H3\n",
      "MARTKQTARKSTGGKAPRKQLATKAARKSAPATGGVKKPHRYRPGTVALREIRRYQKSTELLIRKLPFQRLVREIAQDFKTDLRFQSSAVMALQEACEAYLVGLFEDTNLCAIHAKRVTIMPKDIQLARRIRGERA\n"
     ]
    }
   ],
   "source": [
    "fasta_file=\">histone_H3\\nMARTKQTARKSTGGKAPRKQLATKAARKSAPATGGVKKPHRYRPGTVALREIRRYQKSTE\\\n",
    "LLIRKLPFQRLVREIAQDFKTDLRFQSSAVMALQEACEAYLVGLFEDTNLCAIHAKRVTIMPKDIQLARRIRGERA\"\n",
    "print(fasta_file)"
   ]
  },
  {
   "cell_type": "markdown",
   "metadata": {},
   "source": [
    "### String parsing\n",
    "\n",
    "String parsing can be a powerful way to process **large** or **many** files in batch mode to extract information relevant to us, avoiding manual curation. \n",
    "\n",
    "In the example of `fasta_file`, there are two lines:\n",
    "\n",
    "- First line is the sequence name, which starts with \">\"\n",
    "- Second line is the sequence itself\n",
    "\n",
    "How do we extract information from this fasta entry? We will use `string.split(separator)`. Here, `fasta_file` is the string, and `\\n` is the separator (split by lines).\n"
   ]
  },
  {
   "cell_type": "code",
   "execution_count": 2,
   "metadata": {},
   "outputs": [],
   "source": [
    "#Two lines in the fasta file, let us separate the lines\n",
    "fasta_lines = fasta_file.split('\\n')"
   ]
  },
  {
   "cell_type": "markdown",
   "metadata": {},
   "source": [
    "Quick refresher: What kind of data type is `fasta_lines`?"
   ]
  },
  {
   "cell_type": "code",
   "execution_count": 3,
   "metadata": {},
   "outputs": [
    {
     "data": {
      "text/plain": [
       "list"
      ]
     },
     "execution_count": 3,
     "metadata": {},
     "output_type": "execute_result"
    }
   ],
   "source": [
    "type(fasta_lines)"
   ]
  },
  {
   "cell_type": "code",
   "execution_count": 4,
   "metadata": {},
   "outputs": [
    {
     "name": "stdout",
     "output_type": "stream",
     "text": [
      "['>histone_H3', 'MARTKQTARKSTGGKAPRKQLATKAARKSAPATGGVKKPHRYRPGTVALREIRRYQKSTELLIRKLPFQRLVREIAQDFKTDLRFQSSAVMALQEACEAYLVGLFEDTNLCAIHAKRVTIMPKDIQLARRIRGERA']\n"
     ]
    }
   ],
   "source": [
    "print(fasta_lines)"
   ]
  },
  {
   "cell_type": "markdown",
   "metadata": {},
   "source": [
    "There were two lines, each of which are an element in the list `fasta_lines`. <br>Now, which of the elements is the header and which of them is the sequence? \n",
    "<br><br><br>\n",
    "How do I separate the header and the sequence?<br><br>\n",
    "It is always useful to write out or think out the pseudocode, so you can solve the problem in your head first, before writing any code.<br><br>\n",
    "Pseudocode:\n",
    "- The header in a fasta starts with `>`. We can check for that with `startswith()`. \n",
    "- We will go through each element of the list `fasta_lines` and check for the `>` sign. \n",
    "- If the `>` sign is absent, that element is the sequence."
   ]
  },
  {
   "cell_type": "code",
   "execution_count": 5,
   "metadata": {},
   "outputs": [
    {
     "name": "stdout",
     "output_type": "stream",
     "text": [
      "Seq name:\t>histone_H3\n",
      "Seq:\t\tMARTKQTARKSTGGKAPRKQLATKAARKSAPATGGVKKPHRYRPGTVALREIRRYQKSTELLIRKLPFQRLVREIAQDFKTDLRFQSSAVMALQEACEAYLVGLFEDTNLCAIHAKRVTIMPKDIQLARRIRGERA\n"
     ]
    }
   ],
   "source": [
    "for i in fasta_lines: #for each line\n",
    "    if i.startswith('>'): #Does the line start with the \">\" symbol?\n",
    "        seq_name = i\n",
    "    else:\n",
    "        seq = i\n",
    "print(\"Seq name:\\t\"+seq_name+\"\\nSeq:\\t\\t\"+seq)"
   ]
  },
  {
   "cell_type": "markdown",
   "metadata": {},
   "source": [
    "Ok, we have taught python to recognize the sequence now! What did we want to do again? Right, find the percentage of positive residues in the sequence.\n",
    "\n",
    "Lysine (K), Arginine (R), and Histodine (H) are the positive residues. We use `string.count(pattern)` to count occurences of these residues. Here, `seq` is the `string` and `H`, `K`, and `R` form the `pattern`."
   ]
  },
  {
   "cell_type": "code",
   "execution_count": 6,
   "metadata": {},
   "outputs": [
    {
     "name": "stdout",
     "output_type": "stream",
     "text": [
      "Seq name:\t>histone_H3\n",
      "Seq:\t\tMARTKQTARKSTGGKAPRKQLATKAARKSAPATGGVKKPHRYRPGTVALREIRRYQKSTELLIRKLPFQRLVREIAQDFKTDLRFQSSAVMALQEACEAYLVGLFEDTNLCAIHAKRVTIMPKDIQLARRIRGERA\n",
      "Count of Positive Residues:33\n"
     ]
    }
   ],
   "source": [
    "for i in fasta_lines: #for each line\n",
    "    if i.startswith('>'): #Does the line start with the \">\" symbol?\n",
    "        seq_name = i\n",
    "    else:\n",
    "        seq = i\n",
    "        #Count the positive residues when we get to a sequence line\n",
    "        count = seq.count('K') + seq.count('R') + seq.count('H')\n",
    "        #print the results inside the loop\n",
    "        print(\"Seq name:\\t\"+seq_name+\"\\nSeq:\\t\\t\"+seq+\"\\nCount of Positive Residues:\"+str(count))"
   ]
  },
  {
   "cell_type": "markdown",
   "metadata": {},
   "source": [
    "Wait, this \"count\" doesn't take into account the protein length. We can't compare any two proteins on this metric. This brings us to the important concept of **normalization** which we will do a lot with any data we deal with to enable comparisons. How will you **normalize** the *positivity* of a protein??\n",
    "<br><br><br>\n",
    "We can **normalize** to total protein length. We use `len(string)` to find length of strings.\n",
    "(Can you think of other ways to normalize positive residues of a protein to enable comparisons?)"
   ]
  },
  {
   "cell_type": "code",
   "execution_count": 7,
   "metadata": {},
   "outputs": [
    {
     "name": "stdout",
     "output_type": "stream",
     "text": [
      "Seq name:\t>histone_H3\n",
      "Seq:\t\tMARTKQTARKSTGGKAPRKQLATKAARKSAPATGGVKKPHRYRPGTVALREIRRYQKSTELLIRKLPFQRLVREIAQDFKTDLRFQSSAVMALQEACEAYLVGLFEDTNLCAIHAKRVTIMPKDIQLARRIRGERA\n",
      "% of Positive Residues:24.3\n"
     ]
    }
   ],
   "source": [
    "for i in fasta_lines: #for each line\n",
    "    if i.startswith('>'): #Does the line start with the \">\" symbol?\n",
    "        seq_name = i\n",
    "    else:\n",
    "        seq = i\n",
    "        #Count the positive residues when we get to a sequence line\n",
    "        count = seq.count('K') + seq.count('R') + seq.count('H')\n",
    "        percent_positive = count*100/len(seq)\n",
    "        #print the results inside the loop\n",
    "        #Use round to limit number of decimals\n",
    "        print(\"Seq name:\\t\"+seq_name+\"\\nSeq:\\t\\t\"+seq+\"\\n% of Positive Residues:\"+str(round(percent_positive,1)))"
   ]
  },
  {
   "cell_type": "markdown",
   "metadata": {},
   "source": [
    "Ok, so is 24 high or low or par for the course? We need to study more proteins! Let us add two \"housekeeping\" proteins: GAPDH and Actin, and an RNA binding protein, HuR. Again, we are using a shortcut for now and assigning the sequences to a `string`"
   ]
  },
  {
   "cell_type": "code",
   "execution_count": 8,
   "metadata": {},
   "outputs": [
    {
     "name": "stdout",
     "output_type": "stream",
     "text": [
      ">histone_H3\n",
      "MARTKQTARKSTGGKAPRKQLATKAARKSAPATGGVKKPHRYRPGTVALREIRRYQKSTELLIRKLPFQRLVREIAQDFKTDLRFQSSAVMALQEACEAYLVGLFEDTNLCAIHAKRVTIMPKDIQLARRIRGERA\n",
      ">Actin\n",
      "MDDDIAALVVDNGSGMCKAGFAGDDAPRAVFPSIVGRPRHQGVMVGMGQKDSYVGDEAQSKRGILTLKYPIEHGIVTNWDDMEKIWHHTFYNELRVAPEEHPVLLTEAPLNPKANREKMTQIMFETFNTPAMYVAIQAVLSLYASGRTTGIVMDSGDGVTHTVPIYEGYALPHAILRLDLAGRDLTDYLMKILTERGYSFTTTAEREIVRDIKEKLCYVALDFEQEMATAASSSSLEKSYELPDGQVITIGNERFRCPEALFQPSFLGMESCGIHETTFNSIMKCDVDIRKDLYANTVLSGGTTMYPGIADRMQKEITALAPSTMKIKIIAPPERKYSVWIGGSILASLSTFQQMWISKQEYDESGPSIVHRKCF\n",
      ">Gapdh\n",
      "MGKVKVGVNGFGRIGRLVTRAAFNSGKVDIVAINDPFIDLNYMVYMFQYDSTHGKFHGTVKAENGKLVINGNPITIFQERDPSKIKWGDAGAEYVVESTGVFTTMEKAGAHLQGGAKRVIISAPSADAPMFVMGVNHEKYDNSLKIISNASCTTNCLAPLAKVIHDNFGIVEGLMTTVHAITATQKTVDGPSGKLWRDGRGALQNIIPASTGAAKAVGKVIPELNGKLTGMAFRVPTANVSVVDLTCRLEKPAKYDDIKKVVKQASEGPLKGILGYTEHQVVSSDFNSDTHSSTFDAGAGIALNDHFVKLISWYDNEFGYSNRVVDLMAHMASKE\n",
      ">HuR\n",
      "MSNGYEDHMAEDCRGDIGRTNLIVNYLPQNMTQDELRSLFSSIGEVESAKLIRDKVAGHSLGYGFVNYVTAKDAERAINTLNGLRLQSKTIKVSYARPSSEVIKDANLYISGLPRTMTQKDVEDMFSRFGRIINSRVLVDQTTGLSRGVAFIRFDKRSEAEEAITSFNGHKPPGSSEPITVKFAANPNQNKNVALLSQLYHSPARRFGGPVHHQAQRFRFSPMGVDHMSGLSGVNVPGNASSGWCIFIYNLGQDADEGILWQMFGPFGAVTNVKVIRDFNTNKCKGFGFVTMTNYEEAAMAIASLNGYRLGDKILQVSFKTNKSHK\n"
     ]
    }
   ],
   "source": [
    "fasta_file=\">histone_H3\\nMARTKQTARKSTGGKAPRKQLATKAARKSAPATGGVKKPHRYRPGTVALREIRRYQKSTELLIRKLPFQRLVREIAQDFKTDLR\\\n",
    "FQSSAVMALQEACEAYLVGLFEDTNLCAIHAKRVTIMPKDIQLARRIRGERA\\n>Actin\\nMDDDIAALVVDNGSGMCKAGFAGDDAPRAVFPSIVGRPRHQGVMVGMG\\\n",
    "QKDSYVGDEAQSKRGILTLKYPIEHGIVTNWDDMEKIWHHTFYNELRVAPEEHPVLLTEAPLNPKANREKMTQIMFETFNTPAMYVAIQAVLSLYASGRTTGIVMDSGDG\\\n",
    "VTHTVPIYEGYALPHAILRLDLAGRDLTDYLMKILTERGYSFTTTAEREIVRDIKEKLCYVALDFEQEMATAASSSSLEKSYELPDGQVITIGNERFRCPEALFQPSFLG\\\n",
    "MESCGIHETTFNSIMKCDVDIRKDLYANTVLSGGTTMYPGIADRMQKEITALAPSTMKIKIIAPPERKYSVWIGGSILASLSTFQQMWISKQEYDESGPSIVHRKCF\\n>\\\n",
    "Gapdh\\nMGKVKVGVNGFGRIGRLVTRAAFNSGKVDIVAINDPFIDLNYMVYMFQYDSTHGKFHGTVKAENGKLVINGNPITIFQERDPSKIKWGDAGAEYVVESTGVFT\\\n",
    "TMEKAGAHLQGGAKRVIISAPSADAPMFVMGVNHEKYDNSLKIISNASCTTNCLAPLAKVIHDNFGIVEGLMTTVHAITATQKTVDGPSGKLWRDGRGALQNIIPASTGA\\\n",
    "AKAVGKVIPELNGKLTGMAFRVPTANVSVVDLTCRLEKPAKYDDIKKVVKQASEGPLKGILGYTEHQVVSSDFNSDTHSSTFDAGAGIALNDHFVKLISWYDNEFGYSNRV\\\n",
    "VDLMAHMASKE\\n>HuR\\nMSNGYEDHMAEDCRGDIGRTNLIVNYLPQNMTQDELRSLFSSIGEVESAKLIRDKVAGHSLGYGFVNYVTAKDAERAINTLNGLRLQSKTIK\\\n",
    "VSYARPSSEVIKDANLYISGLPRTMTQKDVEDMFSRFGRIINSRVLVDQTTGLSRGVAFIRFDKRSEAEEAITSFNGHKPPGSSEPITVKFAANPNQNKNVALLSQLYHSP\\\n",
    "ARRFGGPVHHQAQRFRFSPMGVDHMSGLSGVNVPGNASSGWCIFIYNLGQDADEGILWQMFGPFGAVTNVKVIRDFNTNKCKGFGFVTMTNYEEAAMAIASLNGYRLGDKI\\\n",
    "LQVSFKTNKSHK\"\n",
    "print(fasta_file)"
   ]
  },
  {
   "cell_type": "markdown",
   "metadata": {},
   "source": [
    "### Replace\n",
    "We don't want the `>` sign as part of the sequence name. How do we get rid of it? <br>\n",
    "\n",
    "- `replace()` is like search & replace in text editing programs\n",
    "- str.replace(character to be replaced, replacement, count)\n",
    "- if count not specified, all instances replaced"
   ]
  },
  {
   "cell_type": "code",
   "execution_count": 9,
   "metadata": {},
   "outputs": [
    {
     "name": "stdout",
     "output_type": "stream",
     "text": [
      "histone_H3\n"
     ]
    }
   ],
   "source": [
    "seq_name = seq_name.replace(\">\",'')\n",
    "print(seq_name)"
   ]
  },
  {
   "cell_type": "markdown",
   "metadata": {},
   "source": [
    "### Find motifs??\n",
    "\n",
    "So, HuR binds the motif `AUUUUUA`. How do we ask if an RNA sequence has this motif?\n",
    "\n",
    "- `find()` method finds the first occurence of the specified value.\n",
    "- `str.find ( prefix [ , start [ , end ] ] )`"
   ]
  },
  {
   "cell_type": "code",
   "execution_count": 10,
   "metadata": {},
   "outputs": [
    {
     "data": {
      "text/plain": [
       "34"
      ]
     },
     "execution_count": 10,
     "metadata": {},
     "output_type": "execute_result"
    }
   ],
   "source": [
    "seq = 'AUGCAUGCAGCUAGCUAAACCCGGGUUAUAUAGAAUUUUUAAAGUAGUAGGGCCGAGUAGAUUUUUAAGAGAGAUAUUUUUAGAGAGAUAGAUGAGAGG'\n",
    "seq.find('AUUUUUA')"
   ]
  },
  {
   "cell_type": "markdown",
   "metadata": {},
   "source": [
    "What if there are more motifs? How to find all of the motifs in a sequence?\n",
    "(Googled it, and found the [answer](https://www.google.com/search?q=find+multiple+instances+python+string))"
   ]
  },
  {
   "cell_type": "code",
   "execution_count": 11,
   "metadata": {},
   "outputs": [
    {
     "name": "stdout",
     "output_type": "stream",
     "text": [
      "Motif found at 34\n",
      "Motif found at 60\n",
      "Motif found at 75\n"
     ]
    }
   ],
   "source": [
    "index=0\n",
    "while index < len(seq):\n",
    "    index = seq.find('AUUUUUA', index)\n",
    "    if index == -1:\n",
    "        break\n",
    "    print('Motif found at', index)\n",
    "    index += len('AUUUUUA')"
   ]
  },
  {
   "cell_type": "markdown",
   "metadata": {},
   "source": [
    "### An everyday example of string manipulation\n",
    "\n",
    "How to find the reverse complement of a *DNA* sequence?"
   ]
  },
  {
   "cell_type": "code",
   "execution_count": 12,
   "metadata": {},
   "outputs": [],
   "source": [
    "seq = \"AUGCCAUGUUGTC\""
   ]
  },
  {
   "cell_type": "markdown",
   "metadata": {},
   "source": [
    "If, ahem, someone enters an *RNA* sequence, let us clean it up first:"
   ]
  },
  {
   "cell_type": "code",
   "execution_count": 13,
   "metadata": {},
   "outputs": [],
   "source": [
    "if \"U\" in seq: #if it is RNA, let us change it to DNA before it gets degraded\n",
    "    better_seq = seq.replace('U','T')"
   ]
  },
  {
   "cell_type": "markdown",
   "metadata": {},
   "source": [
    "Now let us find the complement. We will take advantage of the fact that a string is iterable."
   ]
  },
  {
   "cell_type": "code",
   "execution_count": 14,
   "metadata": {},
   "outputs": [
    {
     "name": "stdout",
     "output_type": "stream",
     "text": [
      "ATGCCATGTTGTC\n",
      "In the process\t ['T']\n",
      "In the process\t ['T', 'A']\n",
      "In the process\t ['T', 'A', 'C']\n",
      "In the process\t ['T', 'A', 'C', 'G']\n",
      "In the process\t ['T', 'A', 'C', 'G', 'G']\n",
      "In the process\t ['T', 'A', 'C', 'G', 'G', 'T']\n",
      "In the process\t ['T', 'A', 'C', 'G', 'G', 'T', 'A']\n",
      "In the process\t ['T', 'A', 'C', 'G', 'G', 'T', 'A', 'C']\n",
      "In the process\t ['T', 'A', 'C', 'G', 'G', 'T', 'A', 'C', 'A']\n",
      "In the process\t ['T', 'A', 'C', 'G', 'G', 'T', 'A', 'C', 'A', 'A']\n",
      "In the process\t ['T', 'A', 'C', 'G', 'G', 'T', 'A', 'C', 'A', 'A', 'C']\n",
      "In the process\t ['T', 'A', 'C', 'G', 'G', 'T', 'A', 'C', 'A', 'A', 'C', 'A']\n",
      "In the process\t ['T', 'A', 'C', 'G', 'G', 'T', 'A', 'C', 'A', 'A', 'C', 'A', 'G']\n",
      "\n",
      "\n",
      "Here is a sequence and its complement:\n",
      "\n",
      "5'\t ATGCCATGTTGTC \t3'\n",
      "3'\t TACGGTACAACAG \t5'\n"
     ]
    }
   ],
   "source": [
    "print(better_seq)\n",
    "\n",
    "#First, let us define a list that will contain the complementary sequence\n",
    "complement_seq=[]\n",
    "\n",
    "#Iterate through the sequence (better_seq): this will go base by base\n",
    "#and then add the complementary base to complement_seq\n",
    "\n",
    "for i in range(0,len(better_seq)):\n",
    "    if(better_seq[i] == 'A'):\n",
    "        complement_seq.append('T')\n",
    "    elif(better_seq[i] == 'T'):\n",
    "        complement_seq.append('A')\n",
    "    elif(better_seq[i] == 'G'):\n",
    "        complement_seq.append('C')\n",
    "    elif(better_seq[i] == 'C'):\n",
    "        complement_seq.append('G')\n",
    "    #OK, is the code working as expected??\n",
    "    print(\"In the process\\t\",complement_seq)\n",
    "\n",
    "print(\"\\n\\nHere is a sequence and its complement:\\n\")\n",
    "print(\"5'\\t\",better_seq,\"\\t3'\")\n",
    "complement_better_seq = ''.join(complement_seq)\n",
    "print(\"3'\\t\",complement_better_seq,\"\\t5'\")"
   ]
  },
  {
   "cell_type": "code",
   "execution_count": 15,
   "metadata": {},
   "outputs": [
    {
     "name": "stdout",
     "output_type": "stream",
     "text": [
      "Ori_Seq\t\t\t5'\t AUGCCAUGUUGTC \t3'\n",
      "DNA Seq\t\t\t5'\t ATGCCATGTTGTC \t3'\n",
      "Complement\t\t5'\t TACGGTACAACAG \t3'\n",
      "\n",
      "\n",
      "DNA Seq\t\t\t5'\t ATGCCATGTTGTC \t3'\n",
      "Reverse Complement\t5'\t GACAACATGGCAT \t3'\n"
     ]
    }
   ],
   "source": [
    "print(\"Ori_Seq\\t\\t\\t5'\\t\",seq,\"\\t3'\")\n",
    "print(\"DNA Seq\\t\\t\\t5'\\t\",better_seq,\"\\t3'\")\n",
    "print(\"Complement\\t\\t5'\\t\",complement_better_seq,\"\\t3'\\n\\n\")\n",
    "\n",
    "#Now reverse complement:\n",
    "rev_better_seq = complement_better_seq[::-1]\n",
    "#rev_better_seq = \"\".join(list(reversed(complement_better_seq)))\n",
    "print(\"DNA Seq\\t\\t\\t5'\\t\",better_seq,\"\\t3'\")\n",
    "print(\"Reverse Complement\\t5'\\t\",rev_better_seq,\"\\t3'\")"
   ]
  },
  {
   "cell_type": "markdown",
   "metadata": {},
   "source": [
    "### What kind of characters does my string have?\n",
    " - isalpha() - are all the characters alphabets?\n",
    " - isnumeric() - are all characters numeric?"
   ]
  },
  {
   "cell_type": "code",
   "execution_count": 16,
   "metadata": {},
   "outputs": [
    {
     "data": {
      "text/plain": [
       "True"
      ]
     },
     "execution_count": 16,
     "metadata": {},
     "output_type": "execute_result"
    }
   ],
   "source": [
    "seq = \"ATGCATCGA\"\n",
    "seq.isalpha()"
   ]
  },
  {
   "cell_type": "code",
   "execution_count": 18,
   "metadata": {},
   "outputs": [
    {
     "data": {
      "text/plain": [
       "False"
      ]
     },
     "execution_count": 18,
     "metadata": {},
     "output_type": "execute_result"
    }
   ],
   "source": [
    "seq.isnumeric()\n",
    "\n"
   ]
  },
  {
   "cell_type": "markdown",
   "metadata": {},
   "source": [
    "### One way to check it is only a DNA sequence\n",
    "\n",
    "Remove \"A\", \"T\", \"G\", and \"C\". Does anything remain?"
   ]
  },
  {
   "cell_type": "code",
   "execution_count": 19,
   "metadata": {},
   "outputs": [
    {
     "name": "stdout",
     "output_type": "stream",
     "text": [
      "UUU\n",
      "Non DNA alphabets detected\n"
     ]
    }
   ],
   "source": [
    "input_seq = \"ATAGAGCUUU\"\n",
    "#input_seq = \"ATAGAGC\"\n",
    "tmp_seq = input_seq\n",
    "tmp_seq = tmp_seq.replace(\"A\",\"\").replace(\"T\",\"\").replace(\"G\",\"\").replace(\"C\",\"\")\n",
    "print(tmp_seq)\n",
    "if(len(tmp_seq)>0):\n",
    "    print(\"Non DNA alphabets detected\")\n",
    "else:\n",
    "    print(\"Sequence seems like DNA\")"
   ]
  }
 ],
 "metadata": {
  "anaconda-cloud": {},
  "kernelspec": {
   "display_name": "Python 3.7.9 ('my-rdkit-env')",
   "language": "python",
   "name": "python3"
  },
  "language_info": {
   "codemirror_mode": {
    "name": "ipython",
    "version": 3
   },
   "file_extension": ".py",
   "mimetype": "text/x-python",
   "name": "python",
   "nbconvert_exporter": "python",
   "pygments_lexer": "ipython3",
   "version": "3.7.9"
  },
  "vscode": {
   "interpreter": {
    "hash": "74b0eeecb9694be932ad336503137f0c047c9eb8ec8a4a235079c04fe56ee89e"
   }
  }
 },
 "nbformat": 4,
 "nbformat_minor": 1
}
